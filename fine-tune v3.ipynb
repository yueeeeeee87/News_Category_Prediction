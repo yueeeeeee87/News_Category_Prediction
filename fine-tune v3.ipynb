{
 "cells": [
  {
   "cell_type": "code",
   "execution_count": 1,
   "id": "74196083-14a2-4ed9-8df0-663195a16fa8",
   "metadata": {},
   "outputs": [
    {
     "name": "stdout",
     "output_type": "stream",
     "text": [
      "Note: you may need to restart the kernel to use updated packages.\n"
     ]
    }
   ],
   "source": [
    "pip install -q opencv-python"
   ]
  },
  {
   "cell_type": "code",
   "execution_count": 2,
   "id": "3fb6575e-6805-4dba-b46f-1460a5966b82",
   "metadata": {},
   "outputs": [
    {
     "name": "stdout",
     "output_type": "stream",
     "text": [
      "\u001b[31mERROR: pip's dependency resolver does not currently take into account all the packages that are installed. This behaviour is the source of the following dependency conflicts.\n",
      "tf-models-official 2.11.3 requires tensorflow~=2.11.0, but you have tensorflow 2.9.3 which is incompatible.\n",
      "tf-models-official 2.11.3 requires tensorflow-text~=2.11.0, but you have tensorflow-text 2.9.0 which is incompatible.\u001b[0m\u001b[31m\n",
      "\u001b[0mNote: you may need to restart the kernel to use updated packages.\n"
     ]
    }
   ],
   "source": [
    "pip install -q -U \"tensorflow-text==2.9.*\""
   ]
  },
  {
   "cell_type": "code",
   "execution_count": 3,
   "id": "832edb1e-4552-4fce-b956-8d1bb16a28b5",
   "metadata": {},
   "outputs": [
    {
     "name": "stdout",
     "output_type": "stream",
     "text": [
      "Note: you may need to restart the kernel to use updated packages.\n"
     ]
    }
   ],
   "source": [
    "pip install -q tf-models-official"
   ]
  },
  {
   "cell_type": "code",
   "execution_count": 4,
   "id": "257a0a0e-bf68-4c86-a618-3d4831182f5f",
   "metadata": {},
   "outputs": [
    {
     "name": "stdout",
     "output_type": "stream",
     "text": [
      "Requirement already satisfied: jax in /opt/conda/lib/python3.10/site-packages (0.4.6)\n",
      "Requirement already satisfied: jaxlib in /opt/conda/lib/python3.10/site-packages (0.4.6)\n",
      "Requirement already satisfied: scipy>=1.5 in /opt/conda/lib/python3.10/site-packages (from jax) (1.10.0)\n",
      "Requirement already satisfied: numpy>=1.20 in /opt/conda/lib/python3.10/site-packages (from jax) (1.23.5)\n",
      "Requirement already satisfied: opt-einsum in /opt/conda/lib/python3.10/site-packages (from jax) (3.3.0)\n",
      "Note: you may need to restart the kernel to use updated packages.\n"
     ]
    }
   ],
   "source": [
    "pip install -U jax jaxlib"
   ]
  },
  {
   "cell_type": "code",
   "execution_count": 5,
   "id": "e9853d0c-6ac7-428c-822e-df54fddc4987",
   "metadata": {},
   "outputs": [
    {
     "name": "stdout",
     "output_type": "stream",
     "text": [
      "Requirement already satisfied: transformers in /opt/conda/lib/python3.10/site-packages (4.27.1)\n",
      "Requirement already satisfied: tqdm>=4.27 in /opt/conda/lib/python3.10/site-packages (from transformers) (4.64.1)\n",
      "Requirement already satisfied: regex!=2019.12.17 in /opt/conda/lib/python3.10/site-packages (from transformers) (2022.10.31)\n",
      "Requirement already satisfied: filelock in /opt/conda/lib/python3.10/site-packages (from transformers) (3.10.0)\n",
      "Requirement already satisfied: huggingface-hub<1.0,>=0.11.0 in /opt/conda/lib/python3.10/site-packages (from transformers) (0.13.2)\n",
      "Requirement already satisfied: tokenizers!=0.11.3,<0.14,>=0.11.1 in /opt/conda/lib/python3.10/site-packages (from transformers) (0.13.2)\n",
      "Requirement already satisfied: packaging>=20.0 in /opt/conda/lib/python3.10/site-packages (from transformers) (22.0)\n",
      "Requirement already satisfied: pyyaml>=5.1 in /opt/conda/lib/python3.10/site-packages (from transformers) (5.4.1)\n",
      "Requirement already satisfied: numpy>=1.17 in /opt/conda/lib/python3.10/site-packages (from transformers) (1.23.5)\n",
      "Requirement already satisfied: requests in /opt/conda/lib/python3.10/site-packages (from transformers) (2.28.1)\n",
      "Requirement already satisfied: typing-extensions>=3.7.4.3 in /opt/conda/lib/python3.10/site-packages (from huggingface-hub<1.0,>=0.11.0->transformers) (4.4.0)\n",
      "Requirement already satisfied: charset-normalizer<3,>=2 in /opt/conda/lib/python3.10/site-packages (from requests->transformers) (2.1.1)\n",
      "Requirement already satisfied: idna<4,>=2.5 in /opt/conda/lib/python3.10/site-packages (from requests->transformers) (3.4)\n",
      "Requirement already satisfied: urllib3<1.27,>=1.21.1 in /opt/conda/lib/python3.10/site-packages (from requests->transformers) (1.26.13)\n",
      "Requirement already satisfied: certifi>=2017.4.17 in /opt/conda/lib/python3.10/site-packages (from requests->transformers) (2022.12.7)\n",
      "Note: you may need to restart the kernel to use updated packages.\n"
     ]
    }
   ],
   "source": [
    "pip install transformers"
   ]
  },
  {
   "cell_type": "code",
   "execution_count": 1,
   "id": "9aa93050-a90d-49f7-af5d-c33ce2520cb9",
   "metadata": {},
   "outputs": [],
   "source": [
    "import os\n",
    "import numpy as np\n",
    "import matplotlib.pyplot as plt\n",
    "import tensorflow as tf\n",
    "import tensorflow_models as tfm\n",
    "import tensorflow_hub as hub\n",
    "import tensorflow_datasets as tfds\n",
    "import pandas as pd\n",
    "from transformers import BertTokenizer, BertForSequenceClassification\n",
    "from tabulate import tabulate\n",
    "from sklearn.model_selection import train_test_split\n",
    "from torch.utils.data import TensorDataset, DataLoader, RandomSampler, SequentialSampler\n",
    "import torch\n",
    "from tqdm import trange\n",
    "from transformers import DistilBertTokenizer\n",
    "from transformers import TFDistilBertForSequenceClassification\n",
    "from sklearn.metrics import f1_score\n",
    "from tqdm import tqdm\n",
    "import pickle"
   ]
  },
  {
   "cell_type": "markdown",
   "id": "45d8c97c-9d2f-4034-8775-975f4947f150",
   "metadata": {},
   "source": [
    "## Load data"
   ]
  },
  {
   "cell_type": "markdown",
   "id": "87332a11-9afa-46d5-ac00-a627858065d4",
   "metadata": {},
   "source": [
    "Using 100K sample size for **bert**."
   ]
  },
  {
   "cell_type": "code",
   "execution_count": 81,
   "id": "fa526d53-e0a6-4159-b67c-842c4c048aa5",
   "metadata": {},
   "outputs": [],
   "source": [
    "df_metadata = pd.read_json('News_Category_Dataset_v3.json', lines=True)\n",
    "df = df_metadata.sample(n=100000, random_state=0)"
   ]
  },
  {
   "cell_type": "code",
   "execution_count": 82,
   "id": "8b22e4fb-5f9c-494d-bbf6-438bd2e3294a",
   "metadata": {},
   "outputs": [],
   "source": [
    "df_out_of_sample = df_metadata[~df_metadata.isin(df)].dropna()"
   ]
  },
  {
   "cell_type": "code",
   "execution_count": 83,
   "id": "04774941-0e6c-469f-a841-b96af1babd88",
   "metadata": {},
   "outputs": [
    {
     "data": {
      "text/plain": [
       "(209527, 100000, 109527)"
      ]
     },
     "execution_count": 83,
     "metadata": {},
     "output_type": "execute_result"
    }
   ],
   "source": [
    "(len(df_metadata), len(df), len(df_out_of_sample))"
   ]
  },
  {
   "cell_type": "code",
   "execution_count": 84,
   "id": "0bb8da29-9d4a-41a8-a7f9-e1b3f6091f95",
   "metadata": {},
   "outputs": [],
   "source": [
    "#mapping dict for labels\n",
    "label_dict = {}\n",
    "index=0\n",
    "for l in df.category.unique():\n",
    "    label_dict[l] = index\n",
    "    index += 1"
   ]
  },
  {
   "cell_type": "code",
   "execution_count": 85,
   "id": "294db0a2-d5ba-4242-b219-382f0a724a1b",
   "metadata": {},
   "outputs": [],
   "source": [
    "df['category'] = df['category'].map(label_dict)\n",
    "df_out_of_sample['category'] = df_out_of_sample['category'].map(label_dict)"
   ]
  },
  {
   "cell_type": "code",
   "execution_count": 86,
   "id": "a993ddda-cfd9-4812-80b4-48ccefc5b97c",
   "metadata": {},
   "outputs": [],
   "source": [
    "text = df['headline'].values\n",
    "labels = df['category'].values"
   ]
  },
  {
   "cell_type": "code",
   "execution_count": 87,
   "id": "7c256771-1453-4c27-ae1c-b938fb57e7d0",
   "metadata": {},
   "outputs": [],
   "source": [
    "df['encoded_cat'] = df['category'].astype('category').cat.codes\n",
    "data_texts = df[\"headline\"].to_list() # Features (not-tokenized yet)\n",
    "data_labels = df[\"category\"].to_list() # Lables\n",
    "oos_labels = df_out_of_sample['category'].to_list()\n",
    "oos_texts = df_out_of_sample.headline.to_list()"
   ]
  },
  {
   "cell_type": "code",
   "execution_count": 88,
   "id": "c5444e14-93d9-4e09-9a01-c7953a7bcb7b",
   "metadata": {},
   "outputs": [],
   "source": [
    "# Split Train and Validation data\n",
    "train_texts, val_texts, train_labels, val_labels = train_test_split(data_texts, data_labels, test_size=0.2, random_state=0)\n",
    "\n",
    "# Keep some data for inference (testing)\n",
    "train_texts, test_texts, train_labels, test_labels = train_test_split(data_texts, data_labels, test_size=0.01, random_state=0)"
   ]
  },
  {
   "cell_type": "code",
   "execution_count": 102,
   "id": "57744666-4315-40c3-9a3f-f35086eccb72",
   "metadata": {},
   "outputs": [],
   "source": [
    "def get_train_vali_test(X, y, ratio_train = 0.8, ratio_val = 0.1, ratio_test = 0.1):\n",
    "    X_train, X_test, y_train, y_test = train_test_split(X, y, test_size=ratio_test, random_state=42, shuffle=True)\n",
    "    ratio_remaining = 1 - ratio_test\n",
    "    ratio_val_adjusted = ratio_val / ratio_remaining\n",
    "    X_train, X_val, y_train, y_val = train_test_split(X_train, y_train, test_size=ratio_val_adjusted, random_state=42, shuffle=True)\n",
    "    return X_train, X_test, X_val, y_train, y_test, y_val"
   ]
  },
  {
   "cell_type": "code",
   "execution_count": 106,
   "id": "9bc3e31d-8cb8-4695-8864-fb5bf99f47f3",
   "metadata": {},
   "outputs": [],
   "source": [
    "train_texts, test_texts, val_texts, train_labels, test_labels, val_labels = get_train_vali_test(data_texts, data_labels)"
   ]
  },
  {
   "cell_type": "code",
   "execution_count": 79,
   "id": "0bd1662d-46dd-4a6e-a18f-c993a3009e00",
   "metadata": {},
   "outputs": [],
   "source": [
    "tokenizer = DistilBertTokenizer.from_pretrained('distilbert-base-uncased')\n",
    "train_encodings = tokenizer(train_texts, truncation=True, padding=True)\n",
    "val_encodings = tokenizer(val_texts, truncation=True, padding=True)\n",
    "test_encodings = tokenizer(test_texts, truncation=True, padding=True)"
   ]
  },
  {
   "cell_type": "code",
   "execution_count": 80,
   "id": "87518da2-6c20-44f2-9ccb-ad07f6af517a",
   "metadata": {},
   "outputs": [],
   "source": [
    "train_dataset = tf.data.Dataset.from_tensor_slices((\n",
    "    dict(train_encodings),\n",
    "    train_labels\n",
    "))\n",
    "val_dataset = tf.data.Dataset.from_tensor_slices((\n",
    "    dict(val_encodings),\n",
    "    val_labels\n",
    "))\n",
    "test_dataset = tf.data.Dataset.from_tensor_slices((\n",
    "    dict(test_encodings),\n",
    "    test_labels\n",
    "))"
   ]
  },
  {
   "cell_type": "markdown",
   "id": "5d92f981-c65e-4a5a-9efc-6405862bb2e0",
   "metadata": {},
   "source": [
    "### Logit Model (baseline)"
   ]
  },
  {
   "cell_type": "code",
   "execution_count": 89,
   "id": "0ada3a81-25e8-436e-89ec-1525d112d97a",
   "metadata": {},
   "outputs": [],
   "source": [
    "from sklearn.feature_extraction.text import TfidfVectorizer\n",
    "from nltk import word_tokenize\n",
    "from sklearn.linear_model import LogisticRegression"
   ]
  },
  {
   "cell_type": "code",
   "execution_count": 107,
   "id": "c59f5648-f0ed-4f78-bbc6-f01c80947d2a",
   "metadata": {},
   "outputs": [],
   "source": [
    "tfidf = TfidfVectorizer(strip_accents=None,\n",
    "                        lowercase=True,\n",
    "                        preprocessor=None,  # applied preprocessor in Data Cleaning\n",
    "                        tokenizer=word_tokenize,\n",
    "                        use_idf=True,\n",
    "                        norm='l2',\n",
    "                        smooth_idf=True,\n",
    "                        stop_words= 'english',\n",
    "                        max_df=0.5,\n",
    "                        sublinear_tf=True)"
   ]
  },
  {
   "cell_type": "code",
   "execution_count": 108,
   "id": "786d46a7-ad55-42eb-ad49-928e2668e3e1",
   "metadata": {},
   "outputs": [
    {
     "name": "stderr",
     "output_type": "stream",
     "text": [
      "/opt/conda/lib/python3.10/site-packages/sklearn/feature_extraction/text.py:528: UserWarning: The parameter 'token_pattern' will not be used since 'tokenizer' is not None'\n",
      "  warnings.warn(\n"
     ]
    }
   ],
   "source": [
    "X =  tfidf.fit_transform(train_texts)"
   ]
  },
  {
   "cell_type": "code",
   "execution_count": 109,
   "id": "b6e44031-2eb7-4eb1-88bd-9718a189c3a4",
   "metadata": {},
   "outputs": [],
   "source": [
    "clf = LogisticRegression(max_iter=100000000, C=5).fit(X, train_labels)"
   ]
  },
  {
   "cell_type": "code",
   "execution_count": 110,
   "id": "7931cbf2-3dd8-480d-82e9-059c05087c9e",
   "metadata": {},
   "outputs": [],
   "source": [
    "X_val = tfidf.transform(val_texts)\n",
    "X_test = tfidf.transform(test_texts)"
   ]
  },
  {
   "cell_type": "code",
   "execution_count": 111,
   "id": "19971ad7-cdf2-4efc-9d4f-1211a802a80f",
   "metadata": {},
   "outputs": [
    {
     "data": {
      "text/plain": [
       "0.88205"
      ]
     },
     "execution_count": 111,
     "metadata": {},
     "output_type": "execute_result"
    }
   ],
   "source": [
    "f1_score(train_labels, clf.predict(X), average='micro')"
   ]
  },
  {
   "cell_type": "code",
   "execution_count": 112,
   "id": "58e516aa-4444-401d-871a-eff0aafd8607",
   "metadata": {},
   "outputs": [
    {
     "data": {
      "text/plain": [
       "0.5623"
      ]
     },
     "execution_count": 112,
     "metadata": {},
     "output_type": "execute_result"
    }
   ],
   "source": [
    "f1_score(val_labels, clf.predict(X_val), average='micro')"
   ]
  },
  {
   "cell_type": "code",
   "execution_count": 113,
   "id": "beb1a47e-13b0-41db-87e6-0471c240f579",
   "metadata": {},
   "outputs": [
    {
     "data": {
      "text/plain": [
       "0.5575"
      ]
     },
     "execution_count": 113,
     "metadata": {},
     "output_type": "execute_result"
    }
   ],
   "source": [
    "f1_score(test_labels, clf.predict(X_test), average='micro')"
   ]
  },
  {
   "cell_type": "code",
   "execution_count": 97,
   "id": "3710acb3-9f0e-4d37-bde6-575d14b24cdf",
   "metadata": {},
   "outputs": [],
   "source": [
    "X_oos = tfidf.transform(oos_texts[:20000])"
   ]
  },
  {
   "cell_type": "code",
   "execution_count": 98,
   "id": "28f3761d-2322-4f3e-bd5b-7e65d0a4db2a",
   "metadata": {},
   "outputs": [
    {
     "data": {
      "text/plain": [
       "0.5767"
      ]
     },
     "execution_count": 98,
     "metadata": {},
     "output_type": "execute_result"
    }
   ],
   "source": [
    "f1_score(oos_labels[:20000], clf.predict(X_oos), average='micro')"
   ]
  },
  {
   "cell_type": "markdown",
   "id": "01639b65-7b77-472b-9b1f-2f3c7156ade8",
   "metadata": {},
   "source": [
    "### Load Pretrained Model (distilbert) "
   ]
  },
  {
   "cell_type": "code",
   "execution_count": 11,
   "id": "1e092f15-67ca-4be1-9706-028e6f66be38",
   "metadata": {},
   "outputs": [
    {
     "name": "stderr",
     "output_type": "stream",
     "text": [
      "Some layers from the model checkpoint at distilbert-base-uncased were not used when initializing TFDistilBertForSequenceClassification: ['activation_13', 'vocab_projector', 'vocab_transform', 'vocab_layer_norm']\n",
      "- This IS expected if you are initializing TFDistilBertForSequenceClassification from the checkpoint of a model trained on another task or with another architecture (e.g. initializing a BertForSequenceClassification model from a BertForPreTraining model).\n",
      "- This IS NOT expected if you are initializing TFDistilBertForSequenceClassification from the checkpoint of a model that you expect to be exactly identical (initializing a BertForSequenceClassification model from a BertForSequenceClassification model).\n",
      "Some layers of TFDistilBertForSequenceClassification were not initialized from the model checkpoint at distilbert-base-uncased and are newly initialized: ['dropout_19', 'pre_classifier', 'classifier']\n",
      "You should probably TRAIN this model on a down-stream task to be able to use it for predictions and inference.\n"
     ]
    }
   ],
   "source": [
    "model = TFDistilBertForSequenceClassification.from_pretrained('distilbert-base-uncased', num_labels=42)\n",
    "\n",
    "optimizer = tf.keras.optimizers.Adam(learning_rate=5e-5)\n",
    "model.compile(optimizer=optimizer, loss=model.hf_compute_loss, metrics=['accuracy'])"
   ]
  },
  {
   "cell_type": "markdown",
   "id": "7278f7f0-3692-40eb-b2b6-37cf7b4e9860",
   "metadata": {},
   "source": [
    "### Model Training"
   ]
  },
  {
   "cell_type": "code",
   "execution_count": 12,
   "id": "89373afa-1b04-407f-84e7-9103b3b8511f",
   "metadata": {},
   "outputs": [
    {
     "name": "stdout",
     "output_type": "stream",
     "text": [
      "Epoch 1/8\n",
      "WARNING:tensorflow:From /opt/conda/lib/python3.10/site-packages/tensorflow/python/autograph/pyct/static_analysis/liveness.py:83: Analyzer.lamba_check (from tensorflow.python.autograph.pyct.static_analysis.liveness) is deprecated and will be removed after 2023-09-23.\n",
      "Instructions for updating:\n",
      "Lambda fuctions will be no more assumed to be used in the statement where they are used, or at least in the same block. https://github.com/tensorflow/tensorflow/issues/56089\n"
     ]
    },
    {
     "name": "stderr",
     "output_type": "stream",
     "text": [
      "WARNING:tensorflow:From /opt/conda/lib/python3.10/site-packages/tensorflow/python/autograph/pyct/static_analysis/liveness.py:83: Analyzer.lamba_check (from tensorflow.python.autograph.pyct.static_analysis.liveness) is deprecated and will be removed after 2023-09-23.\n",
      "Instructions for updating:\n",
      "Lambda fuctions will be no more assumed to be used in the statement where they are used, or at least in the same block. https://github.com/tensorflow/tensorflow/issues/56089\n"
     ]
    },
    {
     "name": "stdout",
     "output_type": "stream",
     "text": [
      "990/990 [==============================] - 3735s 4s/step - loss: 1.6891 - accuracy: 0.5499 - val_loss: 1.2567 - val_accuracy: 0.6360\n",
      "Epoch 2/8\n",
      "990/990 [==============================] - 3606s 4s/step - loss: 1.1468 - accuracy: 0.6664 - val_loss: 0.9611 - val_accuracy: 0.7161\n",
      "Epoch 3/8\n",
      "990/990 [==============================] - 3601s 4s/step - loss: 0.8659 - accuracy: 0.7427 - val_loss: 0.7020 - val_accuracy: 0.7891\n",
      "Epoch 4/8\n",
      "990/990 [==============================] - 3615s 4s/step - loss: 0.6359 - accuracy: 0.8078 - val_loss: 0.5100 - val_accuracy: 0.8495\n",
      "Epoch 5/8\n",
      "990/990 [==============================] - 3617s 4s/step - loss: 0.4590 - accuracy: 0.8587 - val_loss: 0.3705 - val_accuracy: 0.8952\n",
      "Epoch 6/8\n",
      "990/990 [==============================] - 3618s 4s/step - loss: 0.3256 - accuracy: 0.8991 - val_loss: 0.2666 - val_accuracy: 0.9291\n",
      "Epoch 7/8\n",
      "990/990 [==============================] - 3645s 4s/step - loss: 0.2333 - accuracy: 0.9268 - val_loss: 0.2241 - val_accuracy: 0.9441\n",
      "Epoch 8/8\n",
      "990/990 [==============================] - 3651s 4s/step - loss: 0.1761 - accuracy: 0.9445 - val_loss: 0.1908 - val_accuracy: 0.9563\n"
     ]
    }
   ],
   "source": [
    "history = model.fit(train_dataset.shuffle(100).batch(100), epochs=8, batch_size=100,\n",
    "          validation_data=val_dataset.shuffle(100).batch(100))"
   ]
  },
  {
   "cell_type": "code",
   "execution_count": 24,
   "id": "32891ef3-3765-4b00-a8d6-c34e3bbce7cc",
   "metadata": {},
   "outputs": [
    {
     "name": "stdout",
     "output_type": "stream",
     "text": [
      "Epoch 1/2\n",
      "990/990 [==============================] - 3782s 4s/step - loss: 0.1391 - accuracy: 0.9558 - val_loss: 0.1708 - val_accuracy: 0.9645\n",
      "Epoch 2/2\n",
      "990/990 [==============================] - 3613s 4s/step - loss: 0.1153 - accuracy: 0.9631 - val_loss: 0.1670 - val_accuracy: 0.9661\n"
     ]
    }
   ],
   "source": [
    "#second training\n",
    "history_second = model.fit(train_dataset.shuffle(100).batch(100), epochs=2, batch_size=100,\n",
    "          validation_data=val_dataset.shuffle(100).batch(100)) "
   ]
  },
  {
   "cell_type": "code",
   "execution_count": 43,
   "id": "2eabbb43-0a5e-415a-a80a-a18f1b7abec6",
   "metadata": {},
   "outputs": [],
   "source": [
    "his_dict = history.history\n",
    "history_second_dict = history_second.history"
   ]
  },
  {
   "cell_type": "markdown",
   "id": "3aafeaaf-d604-4d9b-b4e3-d586b4142dce",
   "metadata": {},
   "source": [
    "### Save model and training history"
   ]
  },
  {
   "cell_type": "code",
   "execution_count": 14,
   "id": "fe55c1e5-96f9-4882-bc23-fef8fcde4959",
   "metadata": {},
   "outputs": [],
   "source": [
    "#with open(\"save_model_v3/history.json\", \"w\") as outfile:\n",
    "    #json.dump(his_dict, outfile)"
   ]
  },
  {
   "cell_type": "code",
   "execution_count": 29,
   "id": "05f62c82-df94-4472-b25c-50cb97447695",
   "metadata": {},
   "outputs": [],
   "source": [
    "#with open(\"save_model_v3/history_second.json\", \"w\") as outfile:\n",
    "    #json.dump(history_second_dict, outfile)"
   ]
  },
  {
   "cell_type": "code",
   "execution_count": 77,
   "id": "6ee143c8-6dfa-459b-a286-779ce463ce15",
   "metadata": {},
   "outputs": [],
   "source": [
    "df_hisory_1 = pd.read_json('save_model_v3/history.json')\n",
    "df_hisory_2 = pd.read_json('save_model_v3/history_second.json')\n",
    "\n",
    "df_history = pd.concat([pd_hisory_1, pd_hisory_2]).reset_index(drop=True)"
   ]
  },
  {
   "cell_type": "code",
   "execution_count": 71,
   "id": "ace50f72-745a-4c1b-9d51-04d3ece93b7f",
   "metadata": {},
   "outputs": [
    {
     "data": {
      "text/plain": [
       "<AxesSubplot: title={'center': 'training history'}, xlabel='epoch', ylabel='accuracy'>"
      ]
     },
     "execution_count": 71,
     "metadata": {},
     "output_type": "execute_result"
    },
    {
     "data": {
      "image/png": "[encoded data removed]",
      "text/plain": [
       "<Figure size 640x480 with 1 Axes>"
      ]
     },
     "metadata": {},
     "output_type": "display_data"
    }
   ],
   "source": [
    "df_history.plot(title='training history', y=['accuracy', 'val_accuracy'], xlabel='epoch', ylabel='accuracy')"
   ]
  },
  {
   "cell_type": "code",
   "execution_count": 72,
   "id": "56ff3cd4-cc71-4394-9def-062757e6ed17",
   "metadata": {},
   "outputs": [
    {
     "data": {
      "text/plain": [
       "<AxesSubplot: title={'center': 'training history'}, xlabel='epoch', ylabel='loss'>"
      ]
     },
     "execution_count": 72,
     "metadata": {},
     "output_type": "execute_result"
    },
    {
     "data": {
      "image/png": "[encoded data removed]",
      "text/plain": [
       "<Figure size 640x480 with 1 Axes>"
      ]
     },
     "metadata": {},
     "output_type": "display_data"
    }
   ],
   "source": [
    "df_history.plot(title='training history', y=['loss', 'val_loss'], xlabel='epoch', ylabel='loss')"
   ]
  },
  {
   "cell_type": "code",
   "execution_count": 15,
   "id": "e77839a8-5a94-4bda-8ee4-2b538d72ebbe",
   "metadata": {},
   "outputs": [
    {
     "data": {
      "text/plain": [
       "('save_model_v3/tokenizer_config.json',\n",
       " 'save_model_v3/special_tokens_map.json',\n",
       " 'save_model_v3/vocab.txt',\n",
       " 'save_model_v3/added_tokens.json')"
      ]
     },
     "execution_count": 15,
     "metadata": {},
     "output_type": "execute_result"
    }
   ],
   "source": [
    "#save_directory = \"save_model_v3\" \n",
    "#model.save_pretrained(save_directory)\n",
    "#tokenizer.save_pretrained(save_directory)"
   ]
  },
  {
   "cell_type": "code",
   "execution_count": 13,
   "id": "77149654-e39e-4dca-b1a2-9879eac1c2bb",
   "metadata": {},
   "outputs": [
    {
     "name": "stderr",
     "output_type": "stream",
     "text": [
      "All model checkpoint layers were used when initializing TFDistilBertForSequenceClassification.\n",
      "\n",
      "All the layers of TFDistilBertForSequenceClassification were initialized from the model checkpoint at save_model_v3.\n",
      "If your task is similar to the task the model of the checkpoint was trained on, you can already use TFDistilBertForSequenceClassification for predictions without further training.\n"
     ]
    }
   ],
   "source": [
    "load_directory = \"save_model_v3\" \n",
    "loaded_tokenizer = DistilBertTokenizer.from_pretrained(load_directory)\n",
    "loaded_model = TFDistilBertForSequenceClassification.from_pretrained(load_directory)"
   ]
  },
  {
   "cell_type": "markdown",
   "id": "f7a3e289-84ad-4e82-9a47-c76f15ede2dd",
   "metadata": {},
   "source": [
    "### Model Evaluation"
   ]
  },
  {
   "cell_type": "code",
   "execution_count": 14,
   "id": "96cd6e27-210f-4113-9a31-3c0ba309ea87",
   "metadata": {},
   "outputs": [],
   "source": [
    "def make_prediciton(input_text):\n",
    "    predict_input = loaded_tokenizer.encode(input_text,\n",
    "                                     truncation=True,\n",
    "                                     padding=True,\n",
    "                                     return_tensors=\"tf\")\n",
    "\n",
    "    output = loaded_model(predict_input)[0]\n",
    "\n",
    "    prediction_value = tf.argmax(output, axis=1).numpy()[0]\n",
    "    pred_label = [d for d in label_dict if label_dict[d] == prediction_value][0]\n",
    "    return pred_label"
   ]
  },
  {
   "cell_type": "code",
   "execution_count": 15,
   "id": "2191cdad-b175-4620-aac8-bb79f5cb8d5d",
   "metadata": {},
   "outputs": [],
   "source": [
    "def ev_pred(input_text):\n",
    "    predict_input = loaded_tokenizer.encode(input_text,\n",
    "                                     truncation=True,\n",
    "                                     padding=True,\n",
    "                                     return_tensors=\"tf\")\n",
    "\n",
    "    output = loaded_model(predict_input)[0]\n",
    "\n",
    "    prediction_value = tf.argmax(output, axis=1).numpy()[0]\n",
    "    return prediction_value"
   ]
  },
  {
   "cell_type": "code",
   "execution_count": 16,
   "id": "e29b9224-9869-4eb5-8f90-113e678cabba",
   "metadata": {},
   "outputs": [
    {
     "data": {
      "text/plain": [
       "'STYLE & BEAUTY'"
      ]
     },
     "execution_count": 16,
     "metadata": {},
     "output_type": "execute_result"
    }
   ],
   "source": [
    "make_prediciton('Look of the Week: Hunter Schafers ethereal Oscars after-party look')"
   ]
  },
  {
   "cell_type": "code",
   "execution_count": null,
   "id": "1b89514a-61af-4d86-b239-5af5701efa64",
   "metadata": {},
   "outputs": [],
   "source": [
    "pred = [ev_pred(t) for t in tqdm(test_texts)]"
   ]
  },
  {
   "cell_type": "code",
   "execution_count": 208,
   "id": "59f43727-9982-4aa3-8235-108a8b0dbe15",
   "metadata": {},
   "outputs": [
    {
     "data": {
      "text/plain": [
       "0.599"
      ]
     },
     "execution_count": 208,
     "metadata": {},
     "output_type": "execute_result"
    }
   ],
   "source": [
    "f1_score(test_labels, pred, average='micro')"
   ]
  },
  {
   "cell_type": "code",
   "execution_count": 230,
   "id": "3819056b-9707-442d-aab9-4b58ba6c0eb7",
   "metadata": {},
   "outputs": [
    {
     "name": "stderr",
     "output_type": "stream",
     "text": [
      "100%|██████████| 20000/20000 [27:28<00:00, 12.13it/s]\n"
     ]
    }
   ],
   "source": [
    "pred_oos = [ev_pred(t) for t in tqdm(oos_texts[:20000], position=0, leave=True)]"
   ]
  },
  {
   "cell_type": "code",
   "execution_count": 232,
   "id": "e4dc41f6-81f0-4492-a22d-b210a844e256",
   "metadata": {},
   "outputs": [
    {
     "data": {
      "text/plain": [
       "0.5991"
      ]
     },
     "execution_count": 232,
     "metadata": {},
     "output_type": "execute_result"
    }
   ],
   "source": [
    "f1_score(oos_labels[:20000], pred_oos, average='micro')"
   ]
  }
 ],
 "metadata": {
  "kernelspec": {
   "display_name": "Python 3 (ipykernel)",
   "language": "python",
   "name": "python3"
  },
  "language_info": {
   "codemirror_mode": {
    "name": "ipython",
    "version": 3
   },
   "file_extension": ".py",
   "mimetype": "text/x-python",
   "name": "python",
   "nbconvert_exporter": "python",
   "pygments_lexer": "ipython3",
   "version": "3.10.8"
  }
 },
 "nbformat": 4,
 "nbformat_minor": 5
}
